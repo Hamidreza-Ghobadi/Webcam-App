{
 "cells": [
  {
   "cell_type": "markdown",
   "metadata": {},
   "source": [
    "## Importing Required Libraries"
   ]
  },
  {
   "cell_type": "code",
   "execution_count": 55,
   "metadata": {},
   "outputs": [],
   "source": [
    "from tensorflow import keras\n",
    "from keras.applications.xception import Xception, preprocess_input, decode_predictions\n",
    "import cv2\n",
    "import numpy as np"
   ]
  },
  {
   "cell_type": "markdown",
   "metadata": {},
   "source": [
    "## Building Xception Pretrained Model"
   ]
  },
  {
   "cell_type": "code",
   "execution_count": 3,
   "metadata": {},
   "outputs": [
    {
     "name": "stdout",
     "output_type": "stream",
     "text": [
      "Downloading data from https://storage.googleapis.com/tensorflow/keras-applications/xception/xception_weights_tf_dim_ordering_tf_kernels.h5\n",
      "91884032/91884032 [==============================] - 190s 2us/step\n"
     ]
    }
   ],
   "source": [
    "model = Xception()"
   ]
  },
  {
   "cell_type": "markdown",
   "metadata": {},
   "source": [
    "## Defining Recognition Function"
   ]
  },
  {
   "cell_type": "code",
   "execution_count": 34,
   "metadata": {},
   "outputs": [],
   "source": [
    "def recognition(sample):\n",
    "    preprocessed_sample = np.expand_dims(preprocess_input(sample), axis=0)\n",
    "    prediction = decode_predictions(model.predict(preprocessed_sample, verbose=0))[0][0][1]\n",
    "    return prediction"
   ]
  },
  {
   "cell_type": "markdown",
   "metadata": {},
   "source": [
    "## Connecting Model to the Webcam"
   ]
  },
  {
   "cell_type": "code",
   "execution_count": 53,
   "metadata": {},
   "outputs": [],
   "source": [
    "cap = cv2.VideoCapture(0)\n",
    "video_writer = cv2.VideoWriter_fourcc(*'XVID')\n",
    "output = cv2.VideoWriter(\"record.mp4\", video_writer, 20.0, (640, 480))\n",
    "\n",
    "while True:\n",
    "    _, frame = cap.read()\n",
    "    input_frame = cv2.resize(frame, dsize=(299, 299))[:, :, ::-1]\n",
    "    label = recognition(input_frame)\n",
    "    cv2.putText(img=frame, text=label, org=(30, 100), fontFace=cv2.FONT_HERSHEY_COMPLEX, fontScale=1, color=(0, 255, 0))\n",
    "    cv2.imshow(\"camera\", frame)\n",
    "    output.write(frame)\n",
    "    k = cv2.waitKey(2)\n",
    "    if k == 13:\n",
    "        break\n",
    "\n",
    "cap.release()\n",
    "output.release()\n",
    "cv2.destroyAllWindows()"
   ]
  }
 ],
 "metadata": {
  "kernelspec": {
   "display_name": "tensorflow",
   "language": "python",
   "name": "python3"
  },
  "language_info": {
   "codemirror_mode": {
    "name": "ipython",
    "version": 3
   },
   "file_extension": ".py",
   "mimetype": "text/x-python",
   "name": "python",
   "nbconvert_exporter": "python",
   "pygments_lexer": "ipython3",
   "version": "3.9.18"
  }
 },
 "nbformat": 4,
 "nbformat_minor": 2
}
